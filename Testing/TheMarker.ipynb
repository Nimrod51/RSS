{
 "cells": [
  {
   "cell_type": "code",
   "execution_count": 9,
   "metadata": {},
   "outputs": [],
   "source": [
    "# -*- coding: utf-8 -*-\n",
    "from __future__ import print_function\n",
    "import os\n",
    "import sys\n",
    "\n",
    "try:\n",
    "    from builtins import input\n",
    "except ImportError:\n",
    "    print(\"Error: Future not installed\\nInstall using: pip install future\")\n",
    "    exit()\n",
    "try:\n",
    "    import feedparser\n",
    "except ImportError:\n",
    "    print(\"Error: FeedParser not installed\\nInstall using: pip install feedparser\")\n",
    "    exit()\n",
    "try:\n",
    "    from yattag import Doc, indent\n",
    "except ImportError:\n",
    "    print(\"Error: yattag not installed\\nInstall using: pip install yattag\")\n",
    "    exit()\n",
    "try:\n",
    "    from lxml import html\n",
    "except ImportError:\n",
    "    print(\"Error: lxml not installed\\nInstall using: pip install lxml\")\n",
    "    exit()\n",
    "try:\n",
    "    import requests\n",
    "except ImportError:\n",
    "    print(\"Error: requests not installed\\nInstall using: pip install requests\")\n",
    "    exit()"
   ]
  },
  {
   "cell_type": "code",
   "execution_count": 10,
   "metadata": {},
   "outputs": [
    {
     "name": "stdout",
     "output_type": "stream",
     "text": [
      "Enter your preferred feed:\n",
      "1 - כל פרשנויות היום\n",
      "2 - כל כותרות היום\n",
      "3 - כותרות דף הבית\n",
      "\n"
     ]
    }
   ],
   "source": [
    "rss = input(\"\"\"Enter your preferred feed:\n",
    "1 - כל פרשנויות היום\n",
    "2 - כל כותרות היום\n",
    "3 - כותרות דף הבית\n",
    "\"\"\")"
   ]
  },
  {
   "cell_type": "code",
   "execution_count": 11,
   "metadata": {},
   "outputs": [],
   "source": [
    "if rss==\"1\":\n",
    "    themarker = \"http://www.themarker.com/cmlink/1.146\"\n",
    "elif rss==\"2\":\n",
    "    themarker = \"http://www.themarker.com/cmlink/1.144\"\n",
    "else:\n",
    "    themarker = \"http://www.themarker.com/cmlink/1.145\""
   ]
  },
  {
   "cell_type": "code",
   "execution_count": 12,
   "metadata": {},
   "outputs": [],
   "source": [
    "d = feedparser.parse(themarker)"
   ]
  },
  {
   "cell_type": "code",
   "execution_count": 13,
   "metadata": {},
   "outputs": [],
   "source": [
    "#d"
   ]
  },
  {
   "cell_type": "code",
   "execution_count": 14,
   "metadata": {},
   "outputs": [],
   "source": [
    "# Basic HTML template\n",
    "doc,tag,text= Doc().tagtext()\n",
    "doc.asis('<DOCTYPE html>')\n",
    "\n",
    "\n",
    "# Add head tag for CSS\n",
    "with tag('head'):\n",
    "    with tag('link', \n",
    "        ('href','http://serve.fontsproject.com/css?family=Alef:400'),\n",
    "        ('rel','stylesheet'),\n",
    "        ('type','text/css')\n",
    "        ):  text('')\n",
    "\n",
    "\n",
    "article_text=''\n",
    "\n",
    "# Loop to create HTML\n",
    "with tag ('html', dir = \"rtl\"):\n",
    "    with tag ('body'):\n",
    "        with tag ('h1', style= \"font-family:'Alef', serif;\"):\n",
    "            text (d.feed.title) ##Main title for RSS\n",
    "        for item in range (len(d.entries)): ##Loop over articles in RSS feed\n",
    "            with tag ('h2', style= \"font-family:'Alef', serif;\"): #Article title\n",
    "                with tag ('a', href=d.entries[item].link): #Add link\n",
    "                    text (d.entries[item].title)\n",
    "            with tag ('p', style= \"font-family:'Alef', serif; font-weight:bold;font-size: 20px;\"): ##Article description\n",
    "                text (d.entries[item].description)\n",
    "            with tag('div', id='photo-container'): #Get picture\n",
    "                links=dict(d.entries[item])\n",
    "                imageLink=str(links['links'][1]['href'])\n",
    "                doc.stag('img', src=imageLink, width=\"150px\", klass=\"photo\") #Input pic in html\n",
    "            with tag ('p', style = \"font-family:'Alef', serif; font-size: 15px;\"): #Article text\n",
    "                page=requests.get(d.entries[item].link)\n",
    "                tree = html.fromstring(page.content)\n",
    "                textbody = tree.xpath(\"//p\")\n",
    "                for item in textbody:\n",
    "                    if sys.version_info[0]>=3: #python3\n",
    "                        text(item.text_content())\n",
    "                        doc.stag('br') #Add linebreaks between paragraphs\n",
    "                        doc.stag('br')\n",
    "                    else: #python2\n",
    "                        raw_text=\"{0}\".format(item.text_content().encode('iso-8859-1','replace'))\n",
    "                        utf_text = raw_text.decode('UTF-8', 'ignore')\n",
    "                        text(utf_text)\n",
    "                        doc.stag('br') #Add linebreaks between paragraphs\n",
    "                        doc.stag('br')"
   ]
  },
  {
   "cell_type": "code",
   "execution_count": 15,
   "metadata": {},
   "outputs": [],
   "source": [
    "html_str=doc.getvalue().encode('UTF-8', 'ignore')\n",
    "\n",
    "Html_file= open(\"TheMarker.html\",\"wb\")\n",
    "Html_file.write(html_str)\n",
    "Html_file.close()"
   ]
  },
  {
   "cell_type": "code",
   "execution_count": 16,
   "metadata": {},
   "outputs": [],
   "source": [
    "os.startfile(Html_file.name, 'open')\n"
   ]
  },
  {
   "cell_type": "code",
   "execution_count": null,
   "metadata": {},
   "outputs": [],
   "source": []
  }
 ],
 "metadata": {
  "kernelspec": {
   "display_name": "geopython",
   "language": "python",
   "name": "geopython"
  },
  "language_info": {
   "codemirror_mode": {
    "name": "ipython",
    "version": 3
   },
   "file_extension": ".py",
   "mimetype": "text/x-python",
   "name": "python",
   "nbconvert_exporter": "python",
   "pygments_lexer": "ipython3",
   "version": "3.7.2"
  }
 },
 "nbformat": 4,
 "nbformat_minor": 2
}
